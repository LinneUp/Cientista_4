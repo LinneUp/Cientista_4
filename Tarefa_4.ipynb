{
 "cells": [
  {
   "cell_type": "code",
   "execution_count": 1,
   "id": "e2edc083",
   "metadata": {},
   "outputs": [],
   "source": [
    "import sqlite3"
   ]
  },
  {
   "cell_type": "code",
   "execution_count": 2,
   "id": "c921be78",
   "metadata": {},
   "outputs": [
    {
     "name": "stdout",
     "output_type": "stream",
     "text": [
      "<sqlite3.Connection object at 0x7f1a1623a5d0>\n"
     ]
    }
   ],
   "source": [
    "conn = sqlite3.connect(\"dados_cadastrais.db\")\n",
    "print (conn)\n"
   ]
  },
  {
   "cell_type": "code",
   "execution_count": 3,
   "id": "f5c47a68",
   "metadata": {},
   "outputs": [],
   "source": [
    "cursor = conn.cursor()"
   ]
  },
  {
   "cell_type": "code",
   "execution_count": 5,
   "id": "fda92007",
   "metadata": {},
   "outputs": [
    {
     "data": {
      "text/plain": [
       "<sqlite3.Cursor at 0x7f1a162c27a0>"
      ]
     },
     "execution_count": 5,
     "metadata": {},
     "output_type": "execute_result"
    }
   ],
   "source": [
    "cursor.execute(\"CREATE TABLE cadastrocliente (user_id integer, nome text,sobrenome text, cidade text, datanascimento text,endereço text)\")"
   ]
  },
  {
   "cell_type": "code",
   "execution_count": 6,
   "id": "239eb318",
   "metadata": {},
   "outputs": [
    {
     "data": {
      "text/plain": [
       "[('cadastro_cliente',), ('cadastrocliente',)]"
      ]
     },
     "execution_count": 6,
     "metadata": {},
     "output_type": "execute_result"
    }
   ],
   "source": [
    "cursor.execute('SELECT name from sqlite_master where type= \"table\"')\n",
    "cursor.fetchall()"
   ]
  },
  {
   "cell_type": "code",
   "execution_count": 7,
   "id": "f6c5b581",
   "metadata": {},
   "outputs": [],
   "source": [
    "cursor.execute(\"INSERT INTO cadastrocliente VALUES(1, 'Roberto','Silva', 'São Paulo', 'Hospital São Paulinho', 'Rua Pacaembu')\")\n",
    "cursor.execute(\"INSERT INTO cadastrocliente VALUES(2, 'Maria','Silva', 'Rio de Janeiro', 'Hospital Riachuelo', 'Rua da Lapa')\")\n",
    "cursor.execute(\"INSERT INTO cadastrocliente VALUES(3, 'Douglas','Oliveira', 'Osório', 'Hospital Bento Reis', 'Rua Jorge Caido')\")\n",
    "cursor.execute(\"INSERT INTO cadastrocliente VALUES(4, 'Carlitos','Alvez', 'Porto Belo', 'Hospital Nova Petrolina', 'Rua Caida')\") \n",
    "conn.commit()"
   ]
  },
  {
   "cell_type": "code",
   "execution_count": 15,
   "id": "e08a6bbd",
   "metadata": {},
   "outputs": [
    {
     "data": {
      "text/plain": [
       "[(1, 'Roberto', 'Silva', 'São Paulo', 'Hospital São Paulinho', 'Rua Pacaembu'),\n",
       " (2, 'Maria', 'Silva', 'Rio de Janeiro', 'Hospital Riachuelo', 'Rua da Lapa'),\n",
       " (3,\n",
       "  'Douglas',\n",
       "  'Oliveira',\n",
       "  'Osório',\n",
       "  'Hospital Bento Reis',\n",
       "  'Rua Jorge Caido'),\n",
       " (4,\n",
       "  'Carlitos',\n",
       "  'Alvez',\n",
       "  'Porto Belo',\n",
       "  'Hospital Nova Petrolina',\n",
       "  'Rua Caida')]"
      ]
     },
     "execution_count": 15,
     "metadata": {},
     "output_type": "execute_result"
    }
   ],
   "source": [
    "cursor.execute(\"SELECT * FROM cadastrocliente\")\n",
    "cursor.fetchall()"
   ]
  },
  {
   "cell_type": "code",
   "execution_count": 9,
   "id": "01b44c78",
   "metadata": {},
   "outputs": [
    {
     "data": {
      "text/plain": [
       "[(1, 'Roberto', 'Silva', 'São Paulo', 'Hospital São Paulinho', 'Rua Pacaembu'),\n",
       " (2, 'Maria', 'Silva', 'Rio de Janeiro', 'Hospital Riachuelo', 'Rua da Lapa')]"
      ]
     },
     "execution_count": 9,
     "metadata": {},
     "output_type": "execute_result"
    }
   ],
   "source": [
    "cursor.execute(\"SELECT * FROM cadastro_cliente WHERE Sobrenome = 'Silva'\")\n",
    "cursor.fetchall()"
   ]
  },
  {
   "cell_type": "code",
   "execution_count": 10,
   "id": "7a729c1c",
   "metadata": {},
   "outputs": [
    {
     "data": {
      "text/plain": [
       "[(2, 'Silva'), (1, 'Oliveira'), (1, 'Alvez')]"
      ]
     },
     "execution_count": 10,
     "metadata": {},
     "output_type": "execute_result"
    }
   ],
   "source": [
    "cursor.execute(\"SELECT COUNT(user_id), Sobrenome FROM cadastro_cliente GROUP BY Sobrenome ORDER BY COUNT(user_id) DESC\")\n",
    "cursor.fetchall()"
   ]
  },
  {
   "cell_type": "markdown",
   "id": "0c8fa55d",
   "metadata": {},
   "source": [
    "# Tarefa 2"
   ]
  },
  {
   "cell_type": "code",
   "execution_count": 17,
   "id": "04dfb294",
   "metadata": {},
   "outputs": [
    {
     "name": "stdout",
     "output_type": "stream",
     "text": [
      "<sqlite3.Connection object at 0x7f19efe396c0>\n"
     ]
    }
   ],
   "source": [
    "conn = sqlite3.connect(\"dadosprofissionais2.db\")\n",
    "print (conn)"
   ]
  },
  {
   "cell_type": "code",
   "execution_count": 18,
   "id": "316c2d0a",
   "metadata": {},
   "outputs": [],
   "source": [
    "cursor = conn.cursor()"
   ]
  },
  {
   "cell_type": "code",
   "execution_count": 20,
   "id": "bbb9cd0b",
   "metadata": {},
   "outputs": [
    {
     "data": {
      "text/plain": [
       "<sqlite3.Cursor at 0x7f19efec6500>"
      ]
     },
     "execution_count": 20,
     "metadata": {},
     "output_type": "execute_result"
    }
   ],
   "source": [
    "cursor.execute(\"CREATE TABLE dadosprofissionais2 (user_id integer, nome text,materia text, cargo text, salario integer,tempo_casa integer)\")"
   ]
  },
  {
   "cell_type": "code",
   "execution_count": 21,
   "id": "e0407628",
   "metadata": {},
   "outputs": [
    {
     "data": {
      "text/plain": [
       "[('dadosprofissionais',), ('dadosprofissionais2',)]"
      ]
     },
     "execution_count": 21,
     "metadata": {},
     "output_type": "execute_result"
    }
   ],
   "source": [
    "cursor.execute('SELECT name from sqlite_master where type= \"table\"')\n",
    "cursor.fetchall()"
   ]
  },
  {
   "cell_type": "code",
   "execution_count": 22,
   "id": "c1c21bb1",
   "metadata": {},
   "outputs": [],
   "source": [
    "cursor.execute(\"INSERT INTO dadosprofissionais2 VALUES(1, 'Carlos','Matematica', 'Professor', 4500, 4)\")\n",
    "cursor.execute(\"INSERT INTO dadosprofissionais2 VALUES(2, 'Roberto','Portugues', 'Coordenador', 8500, 8)\")\n",
    "cursor.execute(\"INSERT INTO dadosprofissionais2 VALUES(3, 'Daiana','Diretora', 'Diretora', 20000, 15)\")\n",
    "cursor.execute(\"INSERT INTO dadosprofissionais2 VALUES(4, 'Liliam','inglês', 'Professora', 3500, 1)\")\n",
    "conn.commit()"
   ]
  },
  {
   "cell_type": "code",
   "execution_count": 23,
   "id": "a50f5798",
   "metadata": {},
   "outputs": [
    {
     "data": {
      "text/plain": [
       "[(1, 'Carlos', 'Matematica', 'Professor', 4500, 4),\n",
       " (2, 'Roberto', 'Portugues', 'Coordenador', 8500, 8),\n",
       " (3, 'Daiana', 'Diretora', 'Diretora', 20000, 15),\n",
       " (4, 'Liliam', 'inglês', 'Professora', 3500, 1)]"
      ]
     },
     "execution_count": 23,
     "metadata": {},
     "output_type": "execute_result"
    }
   ],
   "source": [
    "cursor.execute(\"SELECT * FROM dadosprofissionais2\")\n",
    "cursor.fetchall()"
   ]
  },
  {
   "cell_type": "code",
   "execution_count": 28,
   "id": "7d5f2d6a",
   "metadata": {},
   "outputs": [
    {
     "data": {
      "text/plain": [
       "[(36500,)]"
      ]
     },
     "execution_count": 28,
     "metadata": {},
     "output_type": "execute_result"
    }
   ],
   "source": [
    "cursor.execute('SELECT SUM (salario) FROM dadosprofissionais2')\n",
    "cursor.fetchall()"
   ]
  },
  {
   "cell_type": "code",
   "execution_count": 32,
   "id": "ac0aa0df",
   "metadata": {},
   "outputs": [
    {
     "data": {
      "text/plain": [
       "[(15,), (8,), (4,), (1,)]"
      ]
     },
     "execution_count": 32,
     "metadata": {},
     "output_type": "execute_result"
    }
   ],
   "source": [
    "cursor.execute(\"SELECT tempo_casa FROM dadosprofissionais2 ORDER BY tempo_casa DESC\")\n",
    "cursor.fetchall()"
   ]
  },
  {
   "cell_type": "code",
   "execution_count": 33,
   "id": "2cfc519c",
   "metadata": {},
   "outputs": [
    {
     "data": {
      "text/plain": [
       "[(20000,), (8500,), (4500,), (3500,)]"
      ]
     },
     "execution_count": 33,
     "metadata": {},
     "output_type": "execute_result"
    }
   ],
   "source": [
    "cursor.execute(\"SELECT salario FROM dadosprofissionais2 ORDER BY salario DESC\")\n",
    "cursor.fetchall()"
   ]
  },
  {
   "cell_type": "code",
   "execution_count": null,
   "id": "9f2aa4b1",
   "metadata": {},
   "outputs": [],
   "source": []
  }
 ],
 "metadata": {
  "kernelspec": {
   "display_name": "Python 3 (ipykernel)",
   "language": "python",
   "name": "python3"
  },
  "language_info": {
   "codemirror_mode": {
    "name": "ipython",
    "version": 3
   },
   "file_extension": ".py",
   "mimetype": "text/x-python",
   "name": "python",
   "nbconvert_exporter": "python",
   "pygments_lexer": "ipython3",
   "version": "3.9.12"
  }
 },
 "nbformat": 4,
 "nbformat_minor": 5
}
